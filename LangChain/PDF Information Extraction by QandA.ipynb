{
 "cells": [
  {
   "cell_type": "code",
   "execution_count": 40,
   "id": "0ebbb887",
   "metadata": {},
   "outputs": [],
   "source": [
    "# Get the content(text) from pdf\n",
    "\n",
    "from pdf_reader import PDFReader\n",
    "\n",
    "raw_text = PDFReader().get_text(\"budget_speech.pdf\")"
   ]
  },
  {
   "cell_type": "code",
   "execution_count": null,
   "id": "a5119d08",
   "metadata": {},
   "outputs": [],
   "source": []
  },
  {
   "cell_type": "code",
   "execution_count": 41,
   "id": "6d0f7488",
   "metadata": {},
   "outputs": [],
   "source": [
    "from langchain.text_splitter import CharacterTextSplitter\n",
    "\n",
    "# We need to split the text using Character Text Split such that it sshould not increse token size\n",
    "text_splitter = CharacterTextSplitter(\n",
    "    separator = \"\\n\",\n",
    "    chunk_size = 800,\n",
    "    chunk_overlap  = 200,\n",
    "    length_function = len,\n",
    ")\n",
    "texts = text_splitter.split_text(raw_text)"
   ]
  },
  {
   "cell_type": "code",
   "execution_count": null,
   "id": "3379ca6e",
   "metadata": {},
   "outputs": [],
   "source": []
  },
  {
   "cell_type": "code",
   "execution_count": 8,
   "id": "0c134829",
   "metadata": {},
   "outputs": [],
   "source": [
    "import os \n",
    "from langchain.embeddings.openai import OpenAIEmbeddings\n",
    "\n",
    "# Download embeddings from OpenAI\n",
    "embeddings = OpenAIEmbeddings(\n",
    "    model=\"text-embedding-ada-002\",\n",
    "    openai_api_key= os.getenv('OPENAI_API_KEY')\n",
    ")"
   ]
  },
  {
   "cell_type": "code",
   "execution_count": null,
   "id": "c6c2b64b",
   "metadata": {},
   "outputs": [],
   "source": []
  },
  {
   "cell_type": "code",
   "execution_count": 9,
   "id": "527a4879",
   "metadata": {},
   "outputs": [],
   "source": [
    "# Build vector store\n",
    "from langchain.vectorstores import FAISS\n",
    "\n",
    "# Faiss is a library — developed by Facebook AI — that enables efficient similarity search\n",
    "\n",
    "document_search = FAISS.from_texts(texts, embeddings)"
   ]
  },
  {
   "cell_type": "code",
   "execution_count": null,
   "id": "ccc8e3f9",
   "metadata": {},
   "outputs": [],
   "source": []
  },
  {
   "cell_type": "code",
   "execution_count": 32,
   "id": "bc1b0639",
   "metadata": {},
   "outputs": [],
   "source": [
    "# Get LLM\n",
    "from langchain.llms import OpenAI\n",
    "\n",
    "openai_llm = OpenAI(\n",
    "    openai_api_key= os.getenv('OPENAI_API_KEY')\n",
    ")"
   ]
  },
  {
   "cell_type": "code",
   "execution_count": null,
   "id": "6084f807",
   "metadata": {},
   "outputs": [],
   "source": []
  },
  {
   "cell_type": "code",
   "execution_count": 29,
   "id": "b423794e",
   "metadata": {},
   "outputs": [],
   "source": [
    "# Create Chain\n",
    "from langchain.chains.question_answering import load_qa_chain\n",
    "\n",
    "chain = load_qa_chain(\n",
    "    llm=openai_llm,   # Set LLM\n",
    "    chain_type=\"stuff\" # Set Chain Type\n",
    ")"
   ]
  },
  {
   "cell_type": "code",
   "execution_count": null,
   "id": "04ad47e0",
   "metadata": {},
   "outputs": [],
   "source": []
  },
  {
   "cell_type": "code",
   "execution_count": 30,
   "id": "eef0b6f1",
   "metadata": {},
   "outputs": [],
   "source": [
    "# Prepare Docs\n",
    "query = \"Vision for Amrit Kaal\"\n",
    "docs = document_search.similarity_search(query)"
   ]
  },
  {
   "cell_type": "code",
   "execution_count": null,
   "id": "ea311bd5",
   "metadata": {},
   "outputs": [],
   "source": []
  },
  {
   "cell_type": "code",
   "execution_count": 31,
   "id": "fe5949ce",
   "metadata": {},
   "outputs": [
    {
     "data": {
      "text/plain": [
       "' The vision for Amrit Kaal is to create an empowered and inclusive economy through technology-driven and knowledge-based growth, with strong public finances and a robust financial sector. This will be achieved through Jan Bhagidari or public participation and Sabka Saath Sabka Prayas or collective efforts from all sections of society. The economic agenda for achieving this vision focuses on inclusive development, reaching the last mile, infrastructure and investment, unleashing potential, green growth, and youth power. Priority areas for development include agriculture and cooperation, digital public infrastructure for agriculture, and economic empowerment of women through programs like Deendayal Antyodaya Yojana National Rural Livelihood Mission.'"
      ]
     },
     "execution_count": 31,
     "metadata": {},
     "output_type": "execute_result"
    }
   ],
   "source": [
    "# Run Chain\n",
    "chain.run(input_documents=docs, question=query)"
   ]
  },
  {
   "cell_type": "code",
   "execution_count": null,
   "id": "7887f653",
   "metadata": {},
   "outputs": [],
   "source": []
  },
  {
   "cell_type": "code",
   "execution_count": 39,
   "id": "a824c244",
   "metadata": {},
   "outputs": [
    {
     "data": {
      "text/plain": [
       "' PACS stands for Primary Agricultural Credit Societies. These are cooperative societies that provide credit and other financial services to farmers in rural areas to support their agricultural activities. They are an important part of the financial sector in promoting inclusive development and reaching the last mile in rural areas. '"
      ]
     },
     "execution_count": 39,
     "metadata": {},
     "output_type": "execute_result"
    }
   ],
   "source": [
    "chain.run(input_documents=docs, question=\"what is PACS\")"
   ]
  },
  {
   "cell_type": "code",
   "execution_count": null,
   "id": "ee44c519",
   "metadata": {},
   "outputs": [],
   "source": []
  }
 ],
 "metadata": {
  "kernelspec": {
   "display_name": "Python 3 (ipykernel)",
   "language": "python",
   "name": "python3"
  },
  "language_info": {
   "codemirror_mode": {
    "name": "ipython",
    "version": 3
   },
   "file_extension": ".py",
   "mimetype": "text/x-python",
   "name": "python",
   "nbconvert_exporter": "python",
   "pygments_lexer": "ipython3",
   "version": "3.11.5"
  }
 },
 "nbformat": 4,
 "nbformat_minor": 5
}
