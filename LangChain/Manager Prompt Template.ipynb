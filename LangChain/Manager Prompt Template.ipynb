{
 "cells": [
  {
   "cell_type": "code",
   "execution_count": 27,
   "id": "35af96f6",
   "metadata": {},
   "outputs": [],
   "source": [
    "import os"
   ]
  },
  {
   "cell_type": "code",
   "execution_count": 28,
   "id": "a48484be",
   "metadata": {},
   "outputs": [],
   "source": [
    "from langchain.llms import OpenAI\n",
    "\n",
    "from langchain import PromptTemplate\n",
    "\n",
    "\n",
    "llm = OpenAI(\n",
    "    model_name=\"text-davinci-003\", \n",
    "    openai_api_key=os.getenv(\"OPENAI_API_KEY\")\n",
    ")\n"
   ]
  },
  {
   "cell_type": "code",
   "execution_count": 29,
   "id": "753a5cee",
   "metadata": {},
   "outputs": [],
   "source": [
    "template = \"\"\" I am travelling to {location}. What are the top 3 things I can do while I am there. \\\n",
    "Be very specific and respond as three bullet points \"\"\""
   ]
  },
  {
   "cell_type": "code",
   "execution_count": null,
   "id": "32265c4e",
   "metadata": {},
   "outputs": [],
   "source": []
  },
  {
   "cell_type": "code",
   "execution_count": 30,
   "id": "7b4bc90d",
   "metadata": {},
   "outputs": [],
   "source": [
    "prompt = PromptTemplate(\n",
    "    \n",
    "    input_variables=[\"location\"],\n",
    "    template=template,\n",
    "\n",
    ")"
   ]
  },
  {
   "cell_type": "code",
   "execution_count": 32,
   "id": "7d7b42cf",
   "metadata": {},
   "outputs": [
    {
     "name": "stdout",
     "output_type": "stream",
     "text": [
      "Please enter the location where you are travellingnepal\n"
     ]
    }
   ],
   "source": [
    "USER_INPUT = input(\"Please enter the location where you are travelling\")"
   ]
  },
  {
   "cell_type": "code",
   "execution_count": 33,
   "id": "584a6427",
   "metadata": {},
   "outputs": [],
   "source": [
    "# Get the final prompt\n",
    "\n",
    "final_prompt = prompt.format(location=USER_INPUT )"
   ]
  },
  {
   "cell_type": "code",
   "execution_count": 34,
   "id": "29bc6be4",
   "metadata": {},
   "outputs": [
    {
     "name": "stdout",
     "output_type": "stream",
     "text": [
      "LLM Output: \n",
      "\n",
      "• Explore Kathmandu Valley: Visit the ancient temples and monuments of the Kathmandu Valley, such as Durbar Square, Pashupatinath Temple, and the Swayambhunath Stupa. \n",
      "\n",
      "• Trek in the Himalayas: Take in the epic beauty of the Nepali mountains, including Mount Everest, and trek around the mountain villages. \n",
      "\n",
      "• Go on a jungle safari: Spot exotic wildlife in Nepal's national parks, such as the Royal Chitwan National Park, Bardia National Park, and Langtang National Park.\n"
     ]
    }
   ],
   "source": [
    "# Get the Final output\n",
    "\n",
    "print(f\"LLM Output: {llm(final_prompt)}\")"
   ]
  },
  {
   "cell_type": "code",
   "execution_count": null,
   "id": "52bd514e",
   "metadata": {},
   "outputs": [],
   "source": []
  }
 ],
 "metadata": {
  "kernelspec": {
   "display_name": "Python 3 (ipykernel)",
   "language": "python",
   "name": "python3"
  },
  "language_info": {
   "codemirror_mode": {
    "name": "ipython",
    "version": 3
   },
   "file_extension": ".py",
   "mimetype": "text/x-python",
   "name": "python",
   "nbconvert_exporter": "python",
   "pygments_lexer": "ipython3",
   "version": "3.11.5"
  }
 },
 "nbformat": 4,
 "nbformat_minor": 5
}
