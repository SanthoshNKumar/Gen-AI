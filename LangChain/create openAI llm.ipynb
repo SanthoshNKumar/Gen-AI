{
 "cells": [
  {
   "cell_type": "code",
   "execution_count": null,
   "id": "63e97271",
   "metadata": {},
   "outputs": [],
   "source": []
  },
  {
   "cell_type": "code",
   "execution_count": 3,
   "id": "53f18288",
   "metadata": {},
   "outputs": [
    {
     "name": "stdout",
     "output_type": "stream",
     "text": [
      "\n",
      "\n",
      "What do you call a data scientist with a broken bone?\n",
      "\n",
      "A data scientist with a broken bone is a data scientist with a broken heart.\n"
     ]
    }
   ],
   "source": [
    "import os\n",
    "\n",
    "from langchain.llms import OpenAI\n",
    "\n",
    "\n",
    "llm = OpenAI(\n",
    "    model_name=\"text-ada-001\", \n",
    "    openai_api_key= os.getenv(\"OPENAI_API_KEY\")\n",
    ")\n",
    "\n",
    "print(llm(\"Tell me a joke about data scientist\"))"
   ]
  },
  {
   "cell_type": "code",
   "execution_count": null,
   "id": "92e7451d",
   "metadata": {},
   "outputs": [],
   "source": []
  }
 ],
 "metadata": {
  "kernelspec": {
   "display_name": "Python 3 (ipykernel)",
   "language": "python",
   "name": "python3"
  },
  "language_info": {
   "codemirror_mode": {
    "name": "ipython",
    "version": 3
   },
   "file_extension": ".py",
   "mimetype": "text/x-python",
   "name": "python",
   "nbconvert_exporter": "python",
   "pygments_lexer": "ipython3",
   "version": "3.11.5"
  }
 },
 "nbformat": 4,
 "nbformat_minor": 5
}
